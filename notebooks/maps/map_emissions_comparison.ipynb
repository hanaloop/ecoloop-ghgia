{
 "cells": [
  {
   "cell_type": "markdown",
   "metadata": {},
   "source": [
    "### Setup\n"
   ]
  },
  {
   "cell_type": "code",
   "execution_count": 2,
   "metadata": {},
   "outputs": [],
   "source": [
    "import os\n",
    "from sklearn.preprocessing import MinMaxScaler\n",
    "from ipyleaflet import Map, LayerGroup, LayersControl, LegendControl\n",
    "from ipywidgets import Layout\n",
    "\n",
    "os.chdir(os.path.expanduser(\"../../\"))\n",
    "from notebooks.definitions.map import MapChart, MapChartGroup, MapDefs\n",
    "\n",
    "scaler = MinMaxScaler(feature_range=(0, 1))\n",
    "from app.database import get_connection\n",
    "import pandas as pd\n",
    "from app.utils.object import list_of_objects_to_dict\n",
    "from app.config.column_mapping import ipcc_to_gir_code\n",
    "import datetime\n",
    "\n",
    "defs = MapDefs(scaler)\n",
    "client = get_connection()\n",
    "if not client.is_connected():\n",
    "    await client.connect()\n",
    "\n",
    "m = Map(\n",
    "    center=(37.5519, 126.9918), zoom=10, layout=Layout(width=\"100%\", height=\"700px\")\n",
    ")"
   ]
  },
  {
   "cell_type": "markdown",
   "metadata": {},
   "source": [
    "### Load data\n"
   ]
  },
  {
   "cell_type": "code",
   "execution_count": 3,
   "metadata": {},
   "outputs": [],
   "source": [
    "gir_4_calc = await client.iemissiondata.find_many(\n",
    "    where={\"source\": \"calc:gir4\", \"regionUid\": {\"not\": None}},\n",
    "    include={\n",
    "        \"region\": True\n",
    "    }\n",
    ")\n",
    "\n",
    "gir_1_calc = await client.iemissiondata.find_many(\n",
    "    where={\"source\": \"calc:gir1\", \"regionUid\": {\"not\": None}},\n",
    "    include={\n",
    "        \"region\": True\n",
    "    }\n",
    ")\n",
    "\n",
    "\n",
    "gir_1 = await client.iemissiondata.group_by(\n",
    "    where={\n",
    "        \"source\": {\"not\": \"calc:*\"},\n",
    "        \"categoryName\": {\"in\": list(ipcc_to_gir_code.values())},\n",
    "        \"periodStartDt\": datetime.datetime(2020, 1, 1),\n",
    "        \"periodEndDt\": datetime.datetime(2020, 12, 31),\n",
    "        \"latitude\": {\"not\": None},\n",
    "    },\n",
    "    by=[\"categoryName\", \"regionName\", \"source\", \"latitude\", \"longitude\", ],\n",
    "    sum={\"emissionTotal\": True},\n",
    ")\n",
    "\n",
    "gir_1_df = pd.DataFrame.from_records(gir_1)\n",
    "gir_1_df[\"emissionTotal\"] = gir_1_df[\"_sum\"].apply(\n",
    "    lambda x: x.get(\"emissionTotal\") / 1000 if x.get(\"emissionTotal\") else 0\n",
    ")\n",
    "\n",
    "# gir_4_group_df = pd.DataFrame.from_records(gir_4_group)\n",
    "# gir_1_group_df = pd.DataFrame.from_records(gir_1_group)\n",
    "# print(gir_1_df[\"_sum\"].head(10))\n",
    "gir_4_calc_df = pd.DataFrame(list_of_objects_to_dict(gir_4_calc))\n",
    "gir_4_calc_ungroupped = gir_4_calc_df.copy()\n",
    "gir_4_calc_df['latitude'] = gir_4_calc_df.apply(lambda x: x['region'].latitude, axis=1)\n",
    "gir_4_calc_df['longitude'] = gir_4_calc_df.apply(lambda x: x['region'].longitude, axis=1)\n",
    "gir_1_calc_df = pd.DataFrame(list_of_objects_to_dict(gir_1_calc))\n",
    "gir_1_calc_df['latitude'] = gir_1_calc_df.apply(lambda x: x['region'].latitude, axis=1)\n",
    "gir_1_calc_df['longitude'] = gir_1_calc_df.apply(lambda x: x['region'].longitude, axis=1)\n",
    "gir_4_calc_groupped = gir_4_calc_df.groupby([\"regionUid\"], as_index=False).agg( {\n",
    "    \"emissionTotal\": \"sum\", \"latitude\": \"mean\", \"longitude\": \"mean\", \"regionName\": \"first\"\n",
    "} )\n",
    "gir_1_calc_groupped = gir_1_calc_df.groupby(by=[\"regionUid\"], as_index=False).agg( {\n",
    "    \"emissionTotal\": \"sum\", \"latitude\": \"mean\", \"longitude\": \"mean\", \"regionName\": \"first\"\n",
    "} )\n",
    "\n",
    "gir_1_groupped = gir_1_df.groupby(by=[\"regionName\"], as_index=False).agg( {\n",
    "    \"emissionTotal\": \"sum\", \"latitude\": \"mean\", \"longitude\": \"mean\"\n",
    "})\n",
    "\n",
    "# gir_1_calc_groupped[\"emissionTotal\"] = gir_1_calc_groupped[\"emissionTotal\"].div(1000)\n",
    "\n"
   ]
  },
  {
   "cell_type": "markdown",
   "metadata": {},
   "source": [
    "### Prepare Map\n"
   ]
  },
  {
   "cell_type": "code",
   "execution_count": 4,
   "metadata": {},
   "outputs": [
    {
     "name": "stderr",
     "output_type": "stream",
     "text": [
      "/Users/dionysiost/workspace/hanaloop/ecoloop-ghgia/.venv/lib/python3.11/site-packages/jupyter_client/session.py:721: UserWarning: Message serialization failed with:\n",
      "Out of range float values are not JSON compliant\n",
      "Supporting this message is deprecated in jupyter-client 7, please make sure your message is JSON-compliant\n",
      "  content = self.pack(content)\n",
      "/Users/dionysiost/workspace/hanaloop/ecoloop-ghgia/notebooks/definitions/map.py:188: FutureWarning: Passing a DataFrame to DataFrame.from_records is deprecated. Use set_index and/or drop to modify the DataFrame instead.\n",
      "  df = pd.DataFrame.from_records(data=data)\n",
      "/Users/dionysiost/workspace/hanaloop/ecoloop-ghgia/notebooks/definitions/map.py:188: FutureWarning: Passing a DataFrame to DataFrame.from_records is deprecated. Use set_index and/or drop to modify the DataFrame instead.\n",
      "  df = pd.DataFrame.from_records(data=data)\n",
      "/Users/dionysiost/workspace/hanaloop/ecoloop-ghgia/notebooks/definitions/map.py:188: FutureWarning: Passing a DataFrame to DataFrame.from_records is deprecated. Use set_index and/or drop to modify the DataFrame instead.\n",
      "  df = pd.DataFrame.from_records(data=data)\n"
     ]
    },
    {
     "name": "stdout",
     "output_type": "stream",
     "text": [
      "None\n"
     ]
    },
    {
     "data": {
      "application/vnd.jupyter.widget-view+json": {
       "model_id": "ff1170b0c4dd4edb9c7589700d48f5b7",
       "version_major": 2,
       "version_minor": 0
      },
      "text/plain": [
       "Map(center=[37.5519, 126.9918], controls=(ZoomControl(options=['position', 'zoom_in_text', 'zoom_in_title', 'z…"
      ]
     },
     "execution_count": 4,
     "metadata": {},
     "output_type": "execute_result"
    }
   ],
   "source": [
    "message_factories = \"{categoryName}: {emissionTotal} Ggrams CO2eq <br> {regionName} <br> {source}\"\n",
    "factory_layer_data = defs.single(data=gir_4_calc_ungroupped, scale=True, bubble_message=message_factories)\n",
    "factory_layer = LayerGroup(layers=factory_layer_data, name=\"factory\")\n",
    "chart_group = MapChartGroup()\n",
    "data = [\n",
    "    {\"name\": \"GIR1\", \"data\": gir_1_groupped, \"colour\": \"red\"},\n",
    "    {\"name\": \"GIR4_calc\", \"data\": gir_4_calc_groupped, \"colour\": \"blue\"},\n",
    "    {\"name\": \"GIR1_calc\", \"data\": gir_1_calc_groupped, \"colour\": \"green\"},\n",
    "]\n",
    "\n",
    "message_district = \"{regionName} <br> {emissionTotal} Ggrams CO2eq\"\n",
    "group_layer = defs.group(\n",
    "    data=data,\n",
    "    chart_group=chart_group,\n",
    "    reference_data_name=\"GIR1\",\n",
    "    reference_value_name=\"emissionTotal\",\n",
    "    bubble_message=message_district,\n",
    ")\n",
    "print(group_layer)\n",
    "district_layer = LayerGroup(\n",
    "    layers=(\n",
    "        chart_group.group1.get(\"data\")\n",
    "        + chart_group.group2.get(\"data\")\n",
    "        + chart_group.group3.get(\"data\")\n",
    "    ),\n",
    "    name=\"district\",\n",
    ")\n",
    "m.add(factory_layer)\n",
    "m.add(district_layer)\n",
    "control = LayersControl(position=\"topright\")\n",
    "m.add_control(control)\n",
    "legend_data = {i.get(\"name\"): i.get(\"colour\") for i in data}\n",
    "legend = LegendControl(legend_data, name=\"Legend\", position=\"bottomright\")\n",
    "m.add_control(legend)\n",
    "m"
   ]
  }
 ],
 "metadata": {
  "kernelspec": {
   "display_name": "kcp-project-U9gJOmgT-py3.11",
   "language": "python",
   "name": "python3"
  },
  "language_info": {
   "codemirror_mode": {
    "name": "ipython",
    "version": 3
   },
   "file_extension": ".py",
   "mimetype": "text/x-python",
   "name": "python",
   "nbconvert_exporter": "python",
   "pygments_lexer": "ipython3",
   "version": "3.11.5"
  }
 },
 "nbformat": 4,
 "nbformat_minor": 2
}
